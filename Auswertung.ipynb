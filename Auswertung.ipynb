{
 "cells": [
  {
   "cell_type": "code",
   "execution_count": 12,
   "id": "ea02c2fe",
   "metadata": {},
   "outputs": [],
   "source": [
    "from tensorflow.keras.models import load_model"
   ]
  },
  {
   "cell_type": "code",
   "execution_count": 13,
   "id": "65a7d874",
   "metadata": {
    "scrolled": false
   },
   "outputs": [],
   "source": [
    "model_path = \"trained_tennis_model.keras\" # Passen Sie diese Variable beliebig an\n",
    "loaded_model = load_model(model_path)"
   ]
  },
  {
   "cell_type": "code",
   "execution_count": 14,
   "id": "f4f042e3",
   "metadata": {},
   "outputs": [],
   "source": [
    "def predict(X):\n",
    "    y_pred = loaded_model.predict(X)\n",
    "    result = []\n",
    "    for entry in y_pred:\n",
    "        result.append(round(entry))"
   ]
  },
  {
   "cell_type": "markdown",
   "id": "5eb5fddb",
   "metadata": {},
   "source": [
    "# NICHT DIE STRUKTUR VERÄNDERN\n",
    "In der folgenden Zelle muss die Struktur exakt so erhalten bleiben, wie sie im Kommentar aufgelistet ist. Es dürfen lediglich die Werte ersetzt werden, aber es müssen immer alle Werte in exakt dieser Reihenfolge angegeben werden. Sollten Sie die Werte noch bearbeiten müssen, tun Sie dies bitte in der Zelle darunter. Es dürfen keine weiteren Werte wie Betting Rates in die Evaluation einfließen."
   ]
  },
  {
   "cell_type": "code",
   "execution_count": 15,
   "id": "fb842309",
   "metadata": {},
   "outputs": [],
   "source": [
    "# ATP, Location, Tournament, Date, Series, Court, Surface, Round, Best of, Winner, Loser, WRank, LRank, WPts, LPts\n",
    "X = [1, \"Brisbane\", \"Brisbane International\", \"31.12.2023\", \"ATP250\", \"Outdoor\", \"Hard\", \"1st Round\", 3, \"Popyrin A.\", \"O Connell C.\", 40, 68, 1084, 780]"
   ]
  },
  {
   "cell_type": "code",
   "execution_count": null,
   "id": "3bbc0d89",
   "metadata": {},
   "outputs": [],
   "source": [
    "def prepare_data(X):\n",
    "    import numpy as np\n",
    "    # Load preprocessing info\n",
    "    with open('preprocessing_info.json', 'r') as f:\n",
    "        preprocessing_info = {\n",
    "                \"numerical_features\": [\n",
    "                    \"p1_rank\",\n",
    "                    \"p2_rank\",\n",
    "                    \"p1_pts\",\n",
    "                    \"p2_pts\",\n",
    "                    \"best_of\"\n",
    "                ],\n",
    "                \"categorical_features\": [\n",
    "                    \"surface\",\n",
    "                    \"round\",\n",
    "                    \"series_cat\",\n",
    "                    \"court_type\"\n",
    "                ],\n",
    "                \"scaler_means\": [\n",
    "                    65.51626016260163,\n",
    "                    65.51626016260163,\n",
    "                    2081.691056910569,\n",
    "                    2081.691056910569,\n",
    "                    5.0\n",
    "                ],\n",
    "                \"scaler_scales\": [\n",
    "                    92.05171388024256,\n",
    "                    92.05171388024256,\n",
    "                    2270.618780066695,\n",
    "                    2270.618780066695,\n",
    "                    1.0\n",
    "                ],\n",
    "                \"onehot_categories\": {\n",
    "                    \"surface\": [\n",
    "                        \"Clay\"\n",
    "                    ],\n",
    "                    \"round\": [\n",
    "                        \"1st Round\",\n",
    "                        \"2nd Round\",\n",
    "                        \"3rd Round\",\n",
    "                        \"4th Round\",\n",
    "                        \"Quarterfinals\",\n",
    "                        \"Semifinals\",\n",
    "                        \"The Final\"\n",
    "                    ],\n",
    "                    \"series_cat\": [\n",
    "                        \"Grand Slam\"\n",
    "                    ],\n",
    "                    \"court_type\": [\n",
    "                        \"Outdoor\"\n",
    "                    ]\n",
    "                },\n",
    "                \"feature_order\": [\n",
    "                    \"p1_rank\",\n",
    "                    \"p2_rank\",\n",
    "                    \"p1_pts\",\n",
    "                    \"p2_pts\",\n",
    "                    \"best_of\",\n",
    "                    \"surface_Clay\",\n",
    "                    \"round_1st Round\",\n",
    "                    \"round_2nd Round\",\n",
    "                    \"round_3rd Round\",\n",
    "                    \"round_4th Round\",\n",
    "                    \"round_Quarterfinals\",\n",
    "                    \"round_Semifinals\",\n",
    "                    \"round_The Final\",\n",
    "                    \"series_cat_Grand Slam\",\n",
    "                    \"court_type_Outdoor\"\n",
    "                ]\n",
    "            }\n",
    "        \n",
    "    numerical_features = preprocessing_info['numerical_features']\n",
    "    categorical_features = preprocessing_info['categorical_features']\n",
    "    scaler_means = np.array(preprocessing_info['scaler_means'])\n",
    "    scaler_scales = np.array(preprocessing_info['scaler_scales'])\n",
    "    onehot_categories = preprocessing_info['onehot_categories']\n",
    "\n",
    "    # Map input X (list) to feature dict\n",
    "    # Adjust this mapping if your X order changes!\n",
    "    feature_dict = dict(zip(\n",
    "        ['p1_rank', 'p2_rank', 'p1_pts', 'p2_pts', 'best_of', 'surface', 'round', 'series_cat', 'court_type'],\n",
    "        X[:9]\n",
    "    ))\n",
    "\n",
    "    # Prepare numerical features\n",
    "    num_vals = []\n",
    "    for i, col in enumerate(numerical_features):\n",
    "        val = float(feature_dict[col])\n",
    "        val = (val - scaler_means[i]) / scaler_scales[i]\n",
    "        num_vals.append(val)\n",
    "\n",
    "    # Prepare categorical features (one-hot)\n",
    "    cat_vals = []\n",
    "    for col in categorical_features:\n",
    "        cats = onehot_categories[col]\n",
    "        val = feature_dict[col]\n",
    "        onehot = [1.0 if val == c else 0.0 for c in cats]\n",
    "        cat_vals.extend(onehot)\n",
    "\n",
    "    # Combine all features\n",
    "    X_prepared = np.array(num_vals + cat_vals, dtype=np.float32).reshape(1, -1)\n",
    "    return X_prepared"
   ]
  },
  {
   "cell_type": "code",
   "execution_count": 20,
   "id": "4fdbea9c",
   "metadata": {},
   "outputs": [
    {
     "ename": "ValueError",
     "evalue": "could not convert string to float: 'Brisbane'",
     "output_type": "error",
     "traceback": [
      "\u001b[1;31m---------------------------------------------------------------------------\u001b[0m",
      "\u001b[1;31mValueError\u001b[0m                                Traceback (most recent call last)",
      "Cell \u001b[1;32mIn[20], line 4\u001b[0m\n\u001b[0;32m      1\u001b[0m \u001b[38;5;66;03m# Hier wird ausgewertet. Es wird hier die Anzahl an gewonnen Sätzen entsprechend der Reihenfolge der Spieler erwartet.\u001b[39;00m\n\u001b[0;32m      2\u001b[0m \u001b[38;5;66;03m# Bsp: Es spielen Spieler A und Spieler B und diese werden auch in dieser Reihenfolge angegeben.\u001b[39;00m\n\u001b[0;32m      3\u001b[0m \u001b[38;5;66;03m# Spieler B gewinnt mit 2:1. Er ist aber als zweites gelistet. Die erwartete Ausgabe soll also [1,2] lauten.\u001b[39;00m\n\u001b[1;32m----> 4\u001b[0m prepared_X \u001b[38;5;241m=\u001b[39m \u001b[43mprepare_data\u001b[49m\u001b[43m(\u001b[49m\u001b[43mX\u001b[49m\u001b[43m)\u001b[49m\n\u001b[0;32m      5\u001b[0m prediction \u001b[38;5;241m=\u001b[39m predict(prepared_X)\n\u001b[0;32m      6\u001b[0m \u001b[38;5;28mprint\u001b[39m(prediction)\n",
      "Cell \u001b[1;32mIn[19], line 88\u001b[0m, in \u001b[0;36mprepare_data\u001b[1;34m(X)\u001b[0m\n\u001b[0;32m     86\u001b[0m num_vals \u001b[38;5;241m=\u001b[39m []\n\u001b[0;32m     87\u001b[0m \u001b[38;5;28;01mfor\u001b[39;00m i, col \u001b[38;5;129;01min\u001b[39;00m \u001b[38;5;28menumerate\u001b[39m(numerical_features):\n\u001b[1;32m---> 88\u001b[0m     val \u001b[38;5;241m=\u001b[39m \u001b[38;5;28;43mfloat\u001b[39;49m\u001b[43m(\u001b[49m\u001b[43mfeature_dict\u001b[49m\u001b[43m[\u001b[49m\u001b[43mcol\u001b[49m\u001b[43m]\u001b[49m\u001b[43m)\u001b[49m\n\u001b[0;32m     89\u001b[0m     \u001b[38;5;66;03m# Standardize\u001b[39;00m\n\u001b[0;32m     90\u001b[0m     val \u001b[38;5;241m=\u001b[39m (val \u001b[38;5;241m-\u001b[39m scaler_means[i]) \u001b[38;5;241m/\u001b[39m scaler_scales[i]\n",
      "\u001b[1;31mValueError\u001b[0m: could not convert string to float: 'Brisbane'"
     ]
    }
   ],
   "source": [
    "# Hier wird ausgewertet. Es wird hier die Anzahl an gewonnen Sätzen entsprechend der Reihenfolge der Spieler erwartet.\n",
    "# Bsp: Es spielen Spieler A und Spieler B und diese werden auch in dieser Reihenfolge angegeben.\n",
    "# Spieler B gewinnt mit 2:1. Er ist aber als zweites gelistet. Die erwartete Ausgabe soll also [1,2] lauten.\n",
    "prepared_X = prepare_data(X)\n",
    "prediction = predict(prepared_X)\n",
    "print(prediction)"
   ]
  }
 ],
 "metadata": {
  "kernelspec": {
   "display_name": ".venv",
   "language": "python",
   "name": "python3"
  },
  "language_info": {
   "codemirror_mode": {
    "name": "ipython",
    "version": 3
   },
   "file_extension": ".py",
   "mimetype": "text/x-python",
   "name": "python",
   "nbconvert_exporter": "python",
   "pygments_lexer": "ipython3",
   "version": "3.9.12"
  }
 },
 "nbformat": 4,
 "nbformat_minor": 5
}
