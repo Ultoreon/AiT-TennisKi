{
 "cells": [
  {
   "cell_type": "code",
   "execution_count": 56,
   "id": "ea02c2fe",
   "metadata": {},
   "outputs": [],
   "source": [
    "from tensorflow.keras.models import load_model"
   ]
  },
  {
   "cell_type": "code",
   "execution_count": 57,
   "id": "345ce807",
   "metadata": {},
   "outputs": [],
   "source": [
    "import tensorflow as tf\n",
    "\n",
    "class EnforceScoreConstraintLayer(tf.keras.layers.Layer):\n",
    "    def __init__(self, **kwargs):\n",
    "        super().__init__(**kwargs)\n",
    "\n",
    "    def call(self, inputs):\n",
    "        raw_scores, best_of_unscaled = inputs # raw_scores: (batch, 2), best_of_unscaled: (batch, 1)\n",
    "\n",
    "        # Ensure best_of_unscaled is float for calculations\n",
    "        best_of_unscaled = tf.cast(best_of_unscaled, tf.float32)\n",
    "\n",
    "        # Calculate S_win (sets needed to win) for each sample in the batch\n",
    "        S_win = tf.math.ceil(best_of_unscaled / 2.0) # Shape: (batch, 1)\n",
    "        max_loser_sets = S_win - 1.0 # Shape: (batch, 1)\n",
    "\n",
    "        o1 = raw_scores[:, 0:1] # Shape: (batch, 1), raw prediction for P1\n",
    "        o2 = raw_scores[:, 1:2] # Shape: (batch, 1), raw prediction for P2\n",
    "\n",
    "        # Determine the winner based on raw predictions o1, o2\n",
    "        # p1_wins_condition is true if o1 >= o2. P1 wins ties.\n",
    "        p1_wins_condition = o1 >= o2\n",
    "        p1_wins = tf.cast(p1_wins_condition, tf.float32)\n",
    "        # p2_wins is true if o1 < o2.\n",
    "        p2_wins = tf.cast(tf.logical_not(p1_wins_condition), tf.float32)\n",
    "\n",
    "        # Predict loser's score: use relu on raw score (to make it non-negative)\n",
    "        # then clip it by max_loser_sets.\n",
    "        o1_pos_for_loser_score = tf.nn.relu(o1) # P1's potential score if P1 loses\n",
    "        o2_pos_for_loser_score = tf.nn.relu(o2) # P2's potential score if P2 loses\n",
    "        \n",
    "        # Candidate score for P1 if P1 loses (non-negative and clipped)\n",
    "        s1_as_loser = tf.clip_by_value(o1_pos_for_loser_score, 0.0, max_loser_sets)\n",
    "        # Candidate score for P2 if P2 loses (non-negative and clipped)\n",
    "        s2_as_loser = tf.clip_by_value(o2_pos_for_loser_score, 0.0, max_loser_sets)\n",
    "\n",
    "        # Final scores: winner gets S_win, loser gets their candidate score\n",
    "        final_s1 = p1_wins * S_win        + p2_wins * s1_as_loser\n",
    "        final_s2 = p1_wins * s2_as_loser  + p2_wins * S_win\n",
    "        \n",
    "        # Concatenate to form the output tensor (batch_size, 2)\n",
    "        constrained_scores = tf.concat([final_s1, final_s2], axis=1)\n",
    "        return constrained_scores\n",
    "\n",
    "    def get_config(self):\n",
    "        # Required for saving/loading models with custom layers\n",
    "        config = super().get_config()\n",
    "        return config\n"
   ]
  },
  {
   "cell_type": "code",
   "execution_count": 64,
   "id": "65a7d874",
   "metadata": {
    "scrolled": false
   },
   "outputs": [
    {
     "name": "stdout",
     "output_type": "stream",
     "text": [
      "WARNING:tensorflow:From c:\\Users\\Admin\\.vscode\\Repo\\AiT-TennisKi\\.venv\\lib\\site-packages\\keras\\src\\backend\\tensorflow\\core.py:232: The name tf.placeholder is deprecated. Please use tf.compat.v1.placeholder instead.\n",
      "\n"
     ]
    }
   ],
   "source": [
    "model_path = \"trained_tennis_model2.keras\" # Passen Sie diese Variable beliebig an\n",
    "loaded_model = load_model(model_path, custom_objects={\"EnforceScoreConstraintLayer\": EnforceScoreConstraintLayer})"
   ]
  },
  {
   "cell_type": "code",
   "execution_count": 59,
   "id": "f4f042e3",
   "metadata": {},
   "outputs": [],
   "source": [
    "def predict(X):\n",
    "    y_pred = loaded_model.predict(X)\n",
    "    result = []\n",
    "    for entry in y_pred:\n",
    "        # entry is an array, so round each value\n",
    "        result.append([round(float(x)) for x in entry])\n",
    "    return result"
   ]
  },
  {
   "cell_type": "markdown",
   "id": "5eb5fddb",
   "metadata": {},
   "source": [
    "# NICHT DIE STRUKTUR VERÄNDERN\n",
    "In der folgenden Zelle muss die Struktur exakt so erhalten bleiben, wie sie im Kommentar aufgelistet ist. Es dürfen lediglich die Werte ersetzt werden, aber es müssen immer alle Werte in exakt dieser Reihenfolge angegeben werden. Sollten Sie die Werte noch bearbeiten müssen, tun Sie dies bitte in der Zelle darunter. Es dürfen keine weiteren Werte wie Betting Rates in die Evaluation einfließen."
   ]
  },
  {
   "cell_type": "code",
   "execution_count": 60,
   "id": "fb842309",
   "metadata": {},
   "outputs": [],
   "source": [
    "# ATP, Location, Tournament, Date, Series, Court, Surface, Round, Best of, Winner, Loser, WRank, LRank, WPts, LPts\n",
    "X = [1, \"Brisbane\", \"Brisbane International\", \"31.12.2023\", \"ATP250\", \"Outdoor\", \"Hard\", \"1st Round\", 3, \"Popyrin A.\", \"O Connell C.\", 40, 68, 1084, 780]"
   ]
  },
  {
   "cell_type": "code",
   "execution_count": 61,
   "id": "0a45ee03",
   "metadata": {},
   "outputs": [],
   "source": [
    "X = [1, \"Paris\", \"Roland Garros\", \"26.05.2024\", \"Grand Slam\", \"Outdoor\", \"Clay\", \"Quarterfinals\", 5, \"Alcaraz C.\", \"Djokovic N.\", 2, 1, 8900, 11200]"
   ]
  },
  {
   "cell_type": "code",
   "execution_count": 62,
   "id": "3bbc0d89",
   "metadata": {},
   "outputs": [],
   "source": [
    "def prepare_data(X):\n",
    "    import numpy as np\n",
    "    x_new = [X[11], X[12], X[13], X[14], X[8], X[6], X[7], X[4], X[5]]\n",
    "    # Directly embedded preprocessing info (copy from your preprocessing_info.json)\n",
    "    preprocessing_info = {\n",
    "        \"numerical_features\": [\n",
    "            \"p1_rank\",\n",
    "            \"p2_rank\",\n",
    "            \"p1_pts\",\n",
    "            \"p2_pts\",\n",
    "            \"best_of\"\n",
    "        ],\n",
    "        \"categorical_features\": [\n",
    "            \"surface\",\n",
    "            \"round\",\n",
    "            \"series_cat\",\n",
    "            \"court_type\"\n",
    "        ],\n",
    "        \"scaler_means\": [\n",
    "            65.51626016260163,\n",
    "            65.51626016260163,\n",
    "            2081.691056910569,\n",
    "            2081.691056910569,\n",
    "            5.0\n",
    "        ],\n",
    "        \"scaler_scales\": [\n",
    "            92.05171388024256,\n",
    "            92.05171388024256,\n",
    "            2270.618780066695,\n",
    "            2270.618780066695,\n",
    "            1.0\n",
    "        ],\n",
    "        \"onehot_categories\": {\n",
    "            \"surface\": [\n",
    "                \"Clay\"\n",
    "            ],\n",
    "            \"round\": [\n",
    "                \"1st Round\",\n",
    "                \"2nd Round\",\n",
    "                \"3rd Round\",\n",
    "                \"4th Round\",\n",
    "                \"Quarterfinals\",\n",
    "                \"Semifinals\",\n",
    "                \"The Final\"\n",
    "            ],\n",
    "            \"series_cat\": [\n",
    "                \"Grand Slam\"\n",
    "            ],\n",
    "            \"court_type\": [\n",
    "                \"Outdoor\"\n",
    "            ]\n",
    "        },\n",
    "        \"feature_order\": [\n",
    "            \"p1_rank\",\n",
    "            \"p2_rank\",\n",
    "            \"p1_pts\",\n",
    "            \"p2_pts\",\n",
    "            \"best_of\",\n",
    "            \"surface_Clay\",\n",
    "            \"round_1st Round\",\n",
    "            \"round_2nd Round\",\n",
    "            \"round_3rd Round\",\n",
    "            \"round_4th Round\",\n",
    "            \"round_Quarterfinals\",\n",
    "            \"round_Semifinals\",\n",
    "            \"round_The Final\",\n",
    "            \"series_cat_Grand Slam\",\n",
    "            \"court_type_Outdoor\"\n",
    "        ]\n",
    "    }\n",
    "\n",
    "    numerical_features = preprocessing_info['numerical_features']\n",
    "    categorical_features = preprocessing_info['categorical_features']\n",
    "    scaler_means = np.array(preprocessing_info['scaler_means'])\n",
    "    scaler_scales = np.array(preprocessing_info['scaler_scales'])\n",
    "    onehot_categories = preprocessing_info['onehot_categories']\n",
    "\n",
    "    # Map input X (list) to feature dict\n",
    "    feature_dict = dict(zip(\n",
    "        ['p1_rank', 'p2_rank', 'p1_pts', 'p2_pts', 'best_of', 'surface', 'round', 'series_cat', 'court_type'],\n",
    "        x_new[:9]\n",
    "    ))\n",
    "\n",
    "    # Prepare numerical features\n",
    "    num_vals = []\n",
    "    for i, col in enumerate(numerical_features):\n",
    "        val = float(feature_dict[col])\n",
    "        val = (val - scaler_means[i]) / scaler_scales[i]\n",
    "        num_vals.append(val)\n",
    "\n",
    "    # Prepare categorical features (one-hot)\n",
    "    cat_vals = []\n",
    "    for col in categorical_features:\n",
    "        cats = onehot_categories[col]\n",
    "        val = feature_dict[col]\n",
    "        onehot = [1.0 if val == c else 0.0 for c in cats]\n",
    "        cat_vals.extend(onehot)\n",
    "\n",
    "    # Combine all features\n",
    "    X_prepared = np.array(num_vals + cat_vals, dtype=np.float32).reshape(1, -1)\n",
    "    return X_prepared"
   ]
  },
  {
   "cell_type": "code",
   "execution_count": 65,
   "id": "4fdbea9c",
   "metadata": {},
   "outputs": [
    {
     "ename": "ValueError",
     "evalue": "Layer \"functional\" expects 2 input(s), but it received 1 input tensors. Inputs received: [<tf.Tensor 'data:0' shape=(1, 15) dtype=float32>]",
     "output_type": "error",
     "traceback": [
      "\u001b[1;31m---------------------------------------------------------------------------\u001b[0m",
      "\u001b[1;31mValueError\u001b[0m                                Traceback (most recent call last)",
      "Cell \u001b[1;32mIn[65], line 5\u001b[0m\n\u001b[0;32m      1\u001b[0m \u001b[38;5;66;03m# Hier wird ausgewertet. Es wird hier die Anzahl an gewonnen Sätzen entsprechend der Reihenfolge der Spieler erwartet.\u001b[39;00m\n\u001b[0;32m      2\u001b[0m \u001b[38;5;66;03m# Bsp: Es spielen Spieler A und Spieler B und diese werden auch in dieser Reihenfolge angegeben.\u001b[39;00m\n\u001b[0;32m      3\u001b[0m \u001b[38;5;66;03m# Spieler B gewinnt mit 2:1. Er ist aber als zweites gelistet. Die erwartete Ausgabe soll also [1,2] lauten.\u001b[39;00m\n\u001b[0;32m      4\u001b[0m prepared_X \u001b[38;5;241m=\u001b[39m prepare_data(X)\n\u001b[1;32m----> 5\u001b[0m prediction \u001b[38;5;241m=\u001b[39m \u001b[43mpredict\u001b[49m\u001b[43m(\u001b[49m\u001b[43mprepared_X\u001b[49m\u001b[43m)\u001b[49m\n\u001b[0;32m      6\u001b[0m \u001b[38;5;28mprint\u001b[39m(prediction)\n",
      "Cell \u001b[1;32mIn[59], line 2\u001b[0m, in \u001b[0;36mpredict\u001b[1;34m(X)\u001b[0m\n\u001b[0;32m      1\u001b[0m \u001b[38;5;28;01mdef\u001b[39;00m\u001b[38;5;250m \u001b[39m\u001b[38;5;21mpredict\u001b[39m(X):\n\u001b[1;32m----> 2\u001b[0m     y_pred \u001b[38;5;241m=\u001b[39m \u001b[43mloaded_model\u001b[49m\u001b[38;5;241;43m.\u001b[39;49m\u001b[43mpredict\u001b[49m\u001b[43m(\u001b[49m\u001b[43mX\u001b[49m\u001b[43m)\u001b[49m\n\u001b[0;32m      3\u001b[0m     result \u001b[38;5;241m=\u001b[39m []\n\u001b[0;32m      4\u001b[0m     \u001b[38;5;28;01mfor\u001b[39;00m entry \u001b[38;5;129;01min\u001b[39;00m y_pred:\n\u001b[0;32m      5\u001b[0m         \u001b[38;5;66;03m# entry is an array, so round each value\u001b[39;00m\n",
      "File \u001b[1;32mc:\\Users\\Admin\\.vscode\\Repo\\AiT-TennisKi\\.venv\\lib\\site-packages\\keras\\src\\utils\\traceback_utils.py:122\u001b[0m, in \u001b[0;36mfilter_traceback.<locals>.error_handler\u001b[1;34m(*args, **kwargs)\u001b[0m\n\u001b[0;32m    119\u001b[0m     filtered_tb \u001b[38;5;241m=\u001b[39m _process_traceback_frames(e\u001b[38;5;241m.\u001b[39m__traceback__)\n\u001b[0;32m    120\u001b[0m     \u001b[38;5;66;03m# To get the full stack trace, call:\u001b[39;00m\n\u001b[0;32m    121\u001b[0m     \u001b[38;5;66;03m# `keras.config.disable_traceback_filtering()`\u001b[39;00m\n\u001b[1;32m--> 122\u001b[0m     \u001b[38;5;28;01mraise\u001b[39;00m e\u001b[38;5;241m.\u001b[39mwith_traceback(filtered_tb) \u001b[38;5;28;01mfrom\u001b[39;00m\u001b[38;5;250m \u001b[39m\u001b[38;5;28;01mNone\u001b[39;00m\n\u001b[0;32m    123\u001b[0m \u001b[38;5;28;01mfinally\u001b[39;00m:\n\u001b[0;32m    124\u001b[0m     \u001b[38;5;28;01mdel\u001b[39;00m filtered_tb\n",
      "File \u001b[1;32mc:\\Users\\Admin\\.vscode\\Repo\\AiT-TennisKi\\.venv\\lib\\site-packages\\keras\\src\\layers\\input_spec.py:160\u001b[0m, in \u001b[0;36massert_input_compatibility\u001b[1;34m(input_spec, inputs, layer_name)\u001b[0m\n\u001b[0;32m    158\u001b[0m inputs \u001b[38;5;241m=\u001b[39m tree\u001b[38;5;241m.\u001b[39mflatten(inputs)\n\u001b[0;32m    159\u001b[0m \u001b[38;5;28;01mif\u001b[39;00m \u001b[38;5;28mlen\u001b[39m(inputs) \u001b[38;5;241m!=\u001b[39m \u001b[38;5;28mlen\u001b[39m(input_spec):\n\u001b[1;32m--> 160\u001b[0m     \u001b[38;5;28;01mraise\u001b[39;00m \u001b[38;5;167;01mValueError\u001b[39;00m(\n\u001b[0;32m    161\u001b[0m         \u001b[38;5;124mf\u001b[39m\u001b[38;5;124m'\u001b[39m\u001b[38;5;124mLayer \u001b[39m\u001b[38;5;124m\"\u001b[39m\u001b[38;5;132;01m{\u001b[39;00mlayer_name\u001b[38;5;132;01m}\u001b[39;00m\u001b[38;5;124m\"\u001b[39m\u001b[38;5;124m expects \u001b[39m\u001b[38;5;132;01m{\u001b[39;00m\u001b[38;5;28mlen\u001b[39m(input_spec)\u001b[38;5;132;01m}\u001b[39;00m\u001b[38;5;124m input(s),\u001b[39m\u001b[38;5;124m'\u001b[39m\n\u001b[0;32m    162\u001b[0m         \u001b[38;5;124mf\u001b[39m\u001b[38;5;124m\"\u001b[39m\u001b[38;5;124m but it received \u001b[39m\u001b[38;5;132;01m{\u001b[39;00m\u001b[38;5;28mlen\u001b[39m(inputs)\u001b[38;5;132;01m}\u001b[39;00m\u001b[38;5;124m input tensors. \u001b[39m\u001b[38;5;124m\"\u001b[39m\n\u001b[0;32m    163\u001b[0m         \u001b[38;5;124mf\u001b[39m\u001b[38;5;124m\"\u001b[39m\u001b[38;5;124mInputs received: \u001b[39m\u001b[38;5;132;01m{\u001b[39;00minputs\u001b[38;5;132;01m}\u001b[39;00m\u001b[38;5;124m\"\u001b[39m\n\u001b[0;32m    164\u001b[0m     )\n\u001b[0;32m    165\u001b[0m \u001b[38;5;28;01mfor\u001b[39;00m input_index, (x, spec) \u001b[38;5;129;01min\u001b[39;00m \u001b[38;5;28menumerate\u001b[39m(\u001b[38;5;28mzip\u001b[39m(inputs, input_spec)):\n\u001b[0;32m    166\u001b[0m     \u001b[38;5;28;01mif\u001b[39;00m spec \u001b[38;5;129;01mis\u001b[39;00m \u001b[38;5;28;01mNone\u001b[39;00m:\n",
      "\u001b[1;31mValueError\u001b[0m: Layer \"functional\" expects 2 input(s), but it received 1 input tensors. Inputs received: [<tf.Tensor 'data:0' shape=(1, 15) dtype=float32>]"
     ]
    }
   ],
   "source": [
    "# Hier wird ausgewertet. Es wird hier die Anzahl an gewonnen Sätzen entsprechend der Reihenfolge der Spieler erwartet.\n",
    "# Bsp: Es spielen Spieler A und Spieler B und diese werden auch in dieser Reihenfolge angegeben.\n",
    "# Spieler B gewinnt mit 2:1. Er ist aber als zweites gelistet. Die erwartete Ausgabe soll also [1,2] lauten.\n",
    "prepared_X = prepare_data(X)\n",
    "prediction = predict(prepared_X)\n",
    "print(prediction)"
   ]
  }
 ],
 "metadata": {
  "kernelspec": {
   "display_name": ".venv",
   "language": "python",
   "name": "python3"
  },
  "language_info": {
   "codemirror_mode": {
    "name": "ipython",
    "version": 3
   },
   "file_extension": ".py",
   "mimetype": "text/x-python",
   "name": "python",
   "nbconvert_exporter": "python",
   "pygments_lexer": "ipython3",
   "version": "3.9.12"
  }
 },
 "nbformat": 4,
 "nbformat_minor": 5
}
